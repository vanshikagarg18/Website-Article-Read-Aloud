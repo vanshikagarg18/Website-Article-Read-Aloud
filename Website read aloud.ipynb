{
 "cells": [
  {
   "cell_type": "code",
   "execution_count": 1,
   "id": "3f710194-89ba-4e62-98b1-a980de0cfa4d",
   "metadata": {},
   "outputs": [
    {
     "name": "stdout",
     "output_type": "stream",
     "text": [
      "Defaulting to user installation because normal site-packages is not writeable\n"
     ]
    },
    {
     "name": "stderr",
     "output_type": "stream",
     "text": [
      "ERROR: Could not find a version that satisfies the requirement ntlk (from versions: none)\n",
      "ERROR: No matching distribution found for ntlk\n"
     ]
    }
   ],
   "source": [
    "# The Natural Language Toolkit (NLTK) is a Python programming environment for creating applications for statistical natural language processing (NLP).It preprocesses text data for further analysis. It supports various languages\n",
    "!pip install ntlk"
   ]
  },
  {
   "cell_type": "code",
   "execution_count": 2,
   "id": "46855419-4585-41a9-a116-3c838085099d",
   "metadata": {},
   "outputs": [
    {
     "name": "stdout",
     "output_type": "stream",
     "text": [
      "Defaulting to user installation because normal site-packages is not writeable\n",
      "Requirement already satisfied: newspaper3k in c:\\users\\vansh\\appdata\\roaming\\python\\python311\\site-packages (0.2.8)\n",
      "Requirement already satisfied: beautifulsoup4>=4.4.1 in c:\\users\\vansh\\appdata\\roaming\\python\\python311\\site-packages (from newspaper3k) (4.12.3)\n",
      "Requirement already satisfied: Pillow>=3.3.0 in c:\\users\\vansh\\appdata\\roaming\\python\\python311\\site-packages (from newspaper3k) (10.3.0)\n",
      "Requirement already satisfied: PyYAML>=3.11 in c:\\users\\vansh\\appdata\\roaming\\python\\python311\\site-packages (from newspaper3k) (6.0.1)\n",
      "Requirement already satisfied: cssselect>=0.9.2 in c:\\programdata\\anaconda3\\lib\\site-packages (from newspaper3k) (1.2.0)\n",
      "Requirement already satisfied: lxml>=3.6.0 in c:\\users\\vansh\\appdata\\roaming\\python\\python311\\site-packages (from newspaper3k) (5.2.2)\n",
      "Requirement already satisfied: nltk>=3.2.1 in c:\\programdata\\anaconda3\\lib\\site-packages (from newspaper3k) (3.8.1)\n",
      "Requirement already satisfied: requests>=2.10.0 in c:\\users\\vansh\\appdata\\roaming\\python\\python311\\site-packages (from newspaper3k) (2.32.3)\n",
      "Requirement already satisfied: feedparser>=5.2.1 in c:\\users\\vansh\\appdata\\roaming\\python\\python311\\site-packages (from newspaper3k) (6.0.11)\n",
      "Requirement already satisfied: tldextract>=2.0.1 in c:\\programdata\\anaconda3\\lib\\site-packages (from newspaper3k) (3.2.0)\n",
      "Requirement already satisfied: feedfinder2>=0.0.4 in c:\\users\\vansh\\appdata\\roaming\\python\\python311\\site-packages (from newspaper3k) (0.0.4)\n",
      "Requirement already satisfied: jieba3k>=0.35.1 in c:\\users\\vansh\\appdata\\roaming\\python\\python311\\site-packages (from newspaper3k) (0.35.1)\n",
      "Requirement already satisfied: python-dateutil>=2.5.3 in c:\\users\\vansh\\appdata\\roaming\\python\\python311\\site-packages (from newspaper3k) (2.9.0.post0)\n",
      "Requirement already satisfied: tinysegmenter==0.3 in c:\\users\\vansh\\appdata\\roaming\\python\\python311\\site-packages (from newspaper3k) (0.3)\n",
      "Requirement already satisfied: soupsieve>1.2 in c:\\users\\vansh\\appdata\\roaming\\python\\python311\\site-packages (from beautifulsoup4>=4.4.1->newspaper3k) (2.5)\n",
      "Requirement already satisfied: six in c:\\users\\vansh\\appdata\\roaming\\python\\python311\\site-packages (from feedfinder2>=0.0.4->newspaper3k) (1.16.0)\n",
      "Requirement already satisfied: sgmllib3k in c:\\users\\vansh\\appdata\\roaming\\python\\python311\\site-packages (from feedparser>=5.2.1->newspaper3k) (1.0.0)\n",
      "Requirement already satisfied: click in c:\\programdata\\anaconda3\\lib\\site-packages (from nltk>=3.2.1->newspaper3k) (8.1.7)\n",
      "Requirement already satisfied: joblib in c:\\programdata\\anaconda3\\lib\\site-packages (from nltk>=3.2.1->newspaper3k) (1.2.0)\n",
      "Requirement already satisfied: regex>=2021.8.3 in c:\\programdata\\anaconda3\\lib\\site-packages (from nltk>=3.2.1->newspaper3k) (2023.10.3)\n",
      "Requirement already satisfied: tqdm in c:\\programdata\\anaconda3\\lib\\site-packages (from nltk>=3.2.1->newspaper3k) (4.65.0)\n",
      "Requirement already satisfied: charset-normalizer<4,>=2 in c:\\users\\vansh\\appdata\\roaming\\python\\python311\\site-packages (from requests>=2.10.0->newspaper3k) (2.0.12)\n",
      "Requirement already satisfied: idna<4,>=2.5 in c:\\users\\vansh\\appdata\\roaming\\python\\python311\\site-packages (from requests>=2.10.0->newspaper3k) (3.7)\n",
      "Requirement already satisfied: urllib3<3,>=1.21.1 in c:\\users\\vansh\\appdata\\roaming\\python\\python311\\site-packages (from requests>=2.10.0->newspaper3k) (1.26.18)\n",
      "Requirement already satisfied: certifi>=2017.4.17 in c:\\users\\vansh\\appdata\\roaming\\python\\python311\\site-packages (from requests>=2.10.0->newspaper3k) (2024.6.2)\n",
      "Requirement already satisfied: requests-file>=1.4 in c:\\programdata\\anaconda3\\lib\\site-packages (from tldextract>=2.0.1->newspaper3k) (1.5.1)\n",
      "Requirement already satisfied: filelock>=3.0.8 in c:\\programdata\\anaconda3\\lib\\site-packages (from tldextract>=2.0.1->newspaper3k) (3.13.1)\n",
      "Requirement already satisfied: colorama in c:\\users\\vansh\\appdata\\roaming\\python\\python311\\site-packages (from click->nltk>=3.2.1->newspaper3k) (0.4.6)\n"
     ]
    }
   ],
   "source": [
    "# Newspaper Module to perform scrapping and curation from an article by problem its web link in the Python program\n",
    "!pip install newspaper3k"
   ]
  },
  {
   "cell_type": "code",
   "execution_count": 3,
   "id": "d5cd7a57-e28c-4b56-9d79-240ff662c5e6",
   "metadata": {},
   "outputs": [
    {
     "name": "stdout",
     "output_type": "stream",
     "text": [
      "Defaulting to user installation because normal site-packages is not writeable\n",
      "Requirement already satisfied: gtts in c:\\users\\vansh\\appdata\\roaming\\python\\python311\\site-packages (2.5.2)\n",
      "Requirement already satisfied: requests<3,>=2.27 in c:\\users\\vansh\\appdata\\roaming\\python\\python311\\site-packages (from gtts) (2.32.3)\n",
      "Requirement already satisfied: click<8.2,>=7.1 in c:\\programdata\\anaconda3\\lib\\site-packages (from gtts) (8.1.7)\n",
      "Requirement already satisfied: colorama in c:\\users\\vansh\\appdata\\roaming\\python\\python311\\site-packages (from click<8.2,>=7.1->gtts) (0.4.6)\n",
      "Requirement already satisfied: charset-normalizer<4,>=2 in c:\\users\\vansh\\appdata\\roaming\\python\\python311\\site-packages (from requests<3,>=2.27->gtts) (2.0.12)\n",
      "Requirement already satisfied: idna<4,>=2.5 in c:\\users\\vansh\\appdata\\roaming\\python\\python311\\site-packages (from requests<3,>=2.27->gtts) (3.7)\n",
      "Requirement already satisfied: urllib3<3,>=1.21.1 in c:\\users\\vansh\\appdata\\roaming\\python\\python311\\site-packages (from requests<3,>=2.27->gtts) (1.26.18)\n",
      "Requirement already satisfied: certifi>=2017.4.17 in c:\\users\\vansh\\appdata\\roaming\\python\\python311\\site-packages (from requests<3,>=2.27->gtts) (2024.6.2)\n"
     ]
    }
   ],
   "source": [
    "# The Google Text to Speech API commonly known as the gTTS API. gTTS is a very easy to use tool which converts the text entered, into audio which can be saved as a mp3 file. The gTTS API supports several languages including English, Hindi, Tamil, French, German and many more. The speech can be delivered in any one of the two available audio speeds, fast or slow\n",
    "!pip install gtts"
   ]
  },
  {
   "cell_type": "code",
   "execution_count": 4,
   "id": "96fd2ad9-0d97-4b62-bb51-61e249bdeedf",
   "metadata": {},
   "outputs": [
    {
     "name": "stdout",
     "output_type": "stream",
     "text": [
      "Defaulting to user installation because normal site-packages is not writeable\n",
      "Requirement already satisfied: pydub in c:\\users\\vansh\\appdata\\roaming\\python\\python311\\site-packages (0.25.1)\n"
     ]
    }
   ],
   "source": [
    "!pip install pydub"
   ]
  },
  {
   "cell_type": "code",
   "execution_count": 5,
   "id": "57d9f764-398d-4a7a-a086-fb5f21a250dd",
   "metadata": {},
   "outputs": [
    {
     "name": "stdout",
     "output_type": "stream",
     "text": [
      "Defaulting to user installation because normal site-packages is not writeable\n",
      "Requirement already satisfied: lxml_html_clean in c:\\users\\vansh\\appdata\\roaming\\python\\python311\\site-packages (0.2.0)\n",
      "Requirement already satisfied: lxml in c:\\users\\vansh\\appdata\\roaming\\python\\python311\\site-packages (from lxml_html_clean) (5.2.2)\n"
     ]
    }
   ],
   "source": [
    "!pip install --upgrade lxml_html_clean"
   ]
  },
  {
   "cell_type": "code",
   "execution_count": 6,
   "id": "8e39340c-e9a8-4002-ac49-ffd9c644e5fd",
   "metadata": {},
   "outputs": [],
   "source": [
    "# Importing libraries\n",
    "import nltk\n",
    "from newspaper import Article\n",
    "from gtts import gTTS\n",
    "import os"
   ]
  },
  {
   "cell_type": "code",
   "execution_count": 7,
   "id": "60531d46-2d7b-4a39-b101-60d42bf24cdf",
   "metadata": {},
   "outputs": [],
   "source": [
    "# Selecting the article\n",
    "post = Article(\"https://www.w3schools.com/python/\")"
   ]
  },
  {
   "cell_type": "code",
   "execution_count": 8,
   "id": "72636a12-9e26-4fe7-bd69-fc6af413e103",
   "metadata": {},
   "outputs": [],
   "source": [
    "# Downloading and parsing the article\n",
    "post.download()\n",
    "post.parse()"
   ]
  },
  {
   "cell_type": "code",
   "execution_count": 9,
   "id": "2556dc41-5fc2-41db-a6d0-40dec0c07b5b",
   "metadata": {},
   "outputs": [
    {
     "name": "stderr",
     "output_type": "stream",
     "text": [
      "[nltk_data] Downloading package punkt to\n",
      "[nltk_data]     C:\\Users\\vansh\\AppData\\Roaming\\nltk_data...\n",
      "[nltk_data]   Package punkt is already up-to-date!\n"
     ]
    }
   ],
   "source": [
    "# Downloading punkt package for tokenization and performing NLP tasks on the article\n",
    "nltk.download('punkt')\n",
    "post.nlp()"
   ]
  },
  {
   "cell_type": "code",
   "execution_count": 10,
   "id": "1411ab98-1e27-4bdc-bbfa-83586e59b623",
   "metadata": {},
   "outputs": [],
   "source": [
    "# Extracting the text\n",
    "txt = post.text"
   ]
  },
  {
   "cell_type": "code",
   "execution_count": 11,
   "id": "7d1b2f77-f6bb-4927-9a6f-4c49bfb98edc",
   "metadata": {},
   "outputs": [],
   "source": [
    "# Choosing language of speech\n",
    "language = 'en' \n",
    "#English"
   ]
  },
  {
   "cell_type": "code",
   "execution_count": 12,
   "id": "184dfa9f-7a39-4907-843b-4fffcb8d160a",
   "metadata": {},
   "outputs": [],
   "source": [
    "# Storing text in a variable by creating a gTTS object with the article text\n",
    "# Slow = falsewill allow the audio at high speed\n",
    "obj = gTTS(text=txt, lang=language, slow=False) "
   ]
  },
  {
   "cell_type": "code",
   "execution_count": 13,
   "id": "8738e4d0-3963-4d8d-b9c4-a563e3632abc",
   "metadata": {},
   "outputs": [],
   "source": [
    "# Saving the speech to an mp3 file\n",
    "obj.save(\"read_post.mp3\")"
   ]
  },
  {
   "cell_type": "code",
   "execution_count": 14,
   "id": "272b4ccf-cfed-4cd7-bec8-1aacf203210b",
   "metadata": {},
   "outputs": [
    {
     "data": {
      "text/plain": [
       "0"
      ]
     },
     "execution_count": 14,
     "metadata": {},
     "output_type": "execute_result"
    }
   ],
   "source": [
    "# Playing the converted audio\n",
    "os.system(\"start read_post.mp3\")"
   ]
  },
  {
   "cell_type": "code",
   "execution_count": null,
   "id": "44ec4adc-7a98-49bf-8d4e-f243f8d1a575",
   "metadata": {},
   "outputs": [],
   "source": []
  }
 ],
 "metadata": {
  "kernelspec": {
   "display_name": "Python 3 (ipykernel)",
   "language": "python",
   "name": "python3"
  },
  "language_info": {
   "codemirror_mode": {
    "name": "ipython",
    "version": 3
   },
   "file_extension": ".py",
   "mimetype": "text/x-python",
   "name": "python",
   "nbconvert_exporter": "python",
   "pygments_lexer": "ipython3",
   "version": "3.11.7"
  }
 },
 "nbformat": 4,
 "nbformat_minor": 5
}
